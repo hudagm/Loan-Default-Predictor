{
 "cells": [
  {
   "cell_type": "code",
   "execution_count": 1,
   "metadata": {},
   "outputs": [],
   "source": [
    "import pandas as pd\n",
    "import numpy as np\n",
    "import matplotlib.pyplot as plt\n",
    "import seaborn as sns\n",
    "import re\n",
    "from datetime import datetime\n",
    "\n",
    "%matplotlib inline"
   ]
  },
  {
   "cell_type": "code",
   "execution_count": 2,
   "metadata": {},
   "outputs": [],
   "source": [
    "# Load train and test files\n",
    "training = pd.read_csv('train.csv', infer_datetime_format = True)\n",
    "testing = pd.read_csv('test_bqCt9Pv.csv', infer_datetime_format = True)"
   ]
  },
  {
   "cell_type": "code",
   "execution_count": 3,
   "metadata": {
    "scrolled": true
   },
   "outputs": [
    {
     "data": {
      "text/html": [
       "<div>\n",
       "<style scoped>\n",
       "    .dataframe tbody tr th:only-of-type {\n",
       "        vertical-align: middle;\n",
       "    }\n",
       "\n",
       "    .dataframe tbody tr th {\n",
       "        vertical-align: top;\n",
       "    }\n",
       "\n",
       "    .dataframe thead th {\n",
       "        text-align: right;\n",
       "    }\n",
       "</style>\n",
       "<table border=\"1\" class=\"dataframe\">\n",
       "  <thead>\n",
       "    <tr style=\"text-align: right;\">\n",
       "      <th></th>\n",
       "      <th>UniqueID</th>\n",
       "      <th>disbursed_amount</th>\n",
       "      <th>asset_cost</th>\n",
       "      <th>ltv</th>\n",
       "      <th>branch_id</th>\n",
       "      <th>supplier_id</th>\n",
       "      <th>manufacturer_id</th>\n",
       "      <th>Current_pincode_ID</th>\n",
       "      <th>Date.of.Birth</th>\n",
       "      <th>Employment.Type</th>\n",
       "      <th>...</th>\n",
       "      <th>SEC.SANCTIONED.AMOUNT</th>\n",
       "      <th>SEC.DISBURSED.AMOUNT</th>\n",
       "      <th>PRIMARY.INSTAL.AMT</th>\n",
       "      <th>SEC.INSTAL.AMT</th>\n",
       "      <th>NEW.ACCTS.IN.LAST.SIX.MONTHS</th>\n",
       "      <th>DELINQUENT.ACCTS.IN.LAST.SIX.MONTHS</th>\n",
       "      <th>AVERAGE.ACCT.AGE</th>\n",
       "      <th>CREDIT.HISTORY.LENGTH</th>\n",
       "      <th>NO.OF_INQUIRIES</th>\n",
       "      <th>loan_default</th>\n",
       "    </tr>\n",
       "  </thead>\n",
       "  <tbody>\n",
       "    <tr>\n",
       "      <th>0</th>\n",
       "      <td>420825</td>\n",
       "      <td>50578</td>\n",
       "      <td>58400</td>\n",
       "      <td>89.55</td>\n",
       "      <td>67</td>\n",
       "      <td>22807</td>\n",
       "      <td>45</td>\n",
       "      <td>1441</td>\n",
       "      <td>01-01-84</td>\n",
       "      <td>Salaried</td>\n",
       "      <td>...</td>\n",
       "      <td>0</td>\n",
       "      <td>0</td>\n",
       "      <td>0</td>\n",
       "      <td>0</td>\n",
       "      <td>0</td>\n",
       "      <td>0</td>\n",
       "      <td>0yrs 0mon</td>\n",
       "      <td>0yrs 0mon</td>\n",
       "      <td>0</td>\n",
       "      <td>0</td>\n",
       "    </tr>\n",
       "    <tr>\n",
       "      <th>1</th>\n",
       "      <td>537409</td>\n",
       "      <td>47145</td>\n",
       "      <td>65550</td>\n",
       "      <td>73.23</td>\n",
       "      <td>67</td>\n",
       "      <td>22807</td>\n",
       "      <td>45</td>\n",
       "      <td>1502</td>\n",
       "      <td>31-07-85</td>\n",
       "      <td>Self employed</td>\n",
       "      <td>...</td>\n",
       "      <td>0</td>\n",
       "      <td>0</td>\n",
       "      <td>1991</td>\n",
       "      <td>0</td>\n",
       "      <td>0</td>\n",
       "      <td>1</td>\n",
       "      <td>1yrs 11mon</td>\n",
       "      <td>1yrs 11mon</td>\n",
       "      <td>0</td>\n",
       "      <td>1</td>\n",
       "    </tr>\n",
       "    <tr>\n",
       "      <th>2</th>\n",
       "      <td>417566</td>\n",
       "      <td>53278</td>\n",
       "      <td>61360</td>\n",
       "      <td>89.63</td>\n",
       "      <td>67</td>\n",
       "      <td>22807</td>\n",
       "      <td>45</td>\n",
       "      <td>1497</td>\n",
       "      <td>24-08-85</td>\n",
       "      <td>Self employed</td>\n",
       "      <td>...</td>\n",
       "      <td>0</td>\n",
       "      <td>0</td>\n",
       "      <td>0</td>\n",
       "      <td>0</td>\n",
       "      <td>0</td>\n",
       "      <td>0</td>\n",
       "      <td>0yrs 0mon</td>\n",
       "      <td>0yrs 0mon</td>\n",
       "      <td>0</td>\n",
       "      <td>0</td>\n",
       "    </tr>\n",
       "    <tr>\n",
       "      <th>3</th>\n",
       "      <td>624493</td>\n",
       "      <td>57513</td>\n",
       "      <td>66113</td>\n",
       "      <td>88.48</td>\n",
       "      <td>67</td>\n",
       "      <td>22807</td>\n",
       "      <td>45</td>\n",
       "      <td>1501</td>\n",
       "      <td>30-12-93</td>\n",
       "      <td>Self employed</td>\n",
       "      <td>...</td>\n",
       "      <td>0</td>\n",
       "      <td>0</td>\n",
       "      <td>31</td>\n",
       "      <td>0</td>\n",
       "      <td>0</td>\n",
       "      <td>0</td>\n",
       "      <td>0yrs 8mon</td>\n",
       "      <td>1yrs 3mon</td>\n",
       "      <td>1</td>\n",
       "      <td>1</td>\n",
       "    </tr>\n",
       "    <tr>\n",
       "      <th>4</th>\n",
       "      <td>539055</td>\n",
       "      <td>52378</td>\n",
       "      <td>60300</td>\n",
       "      <td>88.39</td>\n",
       "      <td>67</td>\n",
       "      <td>22807</td>\n",
       "      <td>45</td>\n",
       "      <td>1495</td>\n",
       "      <td>09-12-77</td>\n",
       "      <td>Self employed</td>\n",
       "      <td>...</td>\n",
       "      <td>0</td>\n",
       "      <td>0</td>\n",
       "      <td>0</td>\n",
       "      <td>0</td>\n",
       "      <td>0</td>\n",
       "      <td>0</td>\n",
       "      <td>0yrs 0mon</td>\n",
       "      <td>0yrs 0mon</td>\n",
       "      <td>1</td>\n",
       "      <td>1</td>\n",
       "    </tr>\n",
       "  </tbody>\n",
       "</table>\n",
       "<p>5 rows × 41 columns</p>\n",
       "</div>"
      ],
      "text/plain": [
       "   UniqueID  disbursed_amount  asset_cost    ltv  branch_id  supplier_id  \\\n",
       "0    420825             50578       58400  89.55         67        22807   \n",
       "1    537409             47145       65550  73.23         67        22807   \n",
       "2    417566             53278       61360  89.63         67        22807   \n",
       "3    624493             57513       66113  88.48         67        22807   \n",
       "4    539055             52378       60300  88.39         67        22807   \n",
       "\n",
       "   manufacturer_id  Current_pincode_ID Date.of.Birth Employment.Type  ...  \\\n",
       "0               45                1441      01-01-84        Salaried  ...   \n",
       "1               45                1502      31-07-85   Self employed  ...   \n",
       "2               45                1497      24-08-85   Self employed  ...   \n",
       "3               45                1501      30-12-93   Self employed  ...   \n",
       "4               45                1495      09-12-77   Self employed  ...   \n",
       "\n",
       "  SEC.SANCTIONED.AMOUNT  SEC.DISBURSED.AMOUNT  PRIMARY.INSTAL.AMT  \\\n",
       "0                     0                     0                   0   \n",
       "1                     0                     0                1991   \n",
       "2                     0                     0                   0   \n",
       "3                     0                     0                  31   \n",
       "4                     0                     0                   0   \n",
       "\n",
       "   SEC.INSTAL.AMT  NEW.ACCTS.IN.LAST.SIX.MONTHS  \\\n",
       "0               0                             0   \n",
       "1               0                             0   \n",
       "2               0                             0   \n",
       "3               0                             0   \n",
       "4               0                             0   \n",
       "\n",
       "   DELINQUENT.ACCTS.IN.LAST.SIX.MONTHS  AVERAGE.ACCT.AGE  \\\n",
       "0                                    0         0yrs 0mon   \n",
       "1                                    1        1yrs 11mon   \n",
       "2                                    0         0yrs 0mon   \n",
       "3                                    0         0yrs 8mon   \n",
       "4                                    0         0yrs 0mon   \n",
       "\n",
       "   CREDIT.HISTORY.LENGTH  NO.OF_INQUIRIES  loan_default  \n",
       "0              0yrs 0mon                0             0  \n",
       "1             1yrs 11mon                0             1  \n",
       "2              0yrs 0mon                0             0  \n",
       "3              1yrs 3mon                1             1  \n",
       "4              0yrs 0mon                1             1  \n",
       "\n",
       "[5 rows x 41 columns]"
      ]
     },
     "execution_count": 3,
     "metadata": {},
     "output_type": "execute_result"
    }
   ],
   "source": [
    "training.head(5)"
   ]
  },
  {
   "cell_type": "code",
   "execution_count": 4,
   "metadata": {},
   "outputs": [
    {
     "name": "stdout",
     "output_type": "stream",
     "text": [
      "Shape of training data: (233154, 41)\n",
      "Shape of testing data: (112392, 40)\n"
     ]
    }
   ],
   "source": [
    "print('Shape of training data:', training.shape)\n",
    "print('Shape of testing data:', testing.shape)"
   ]
  },
  {
   "cell_type": "code",
   "execution_count": 5,
   "metadata": {
    "scrolled": true
   },
   "outputs": [],
   "source": [
    "# training.describe()\n",
    "# training.info()"
   ]
  },
  {
   "cell_type": "code",
   "execution_count": 6,
   "metadata": {
    "scrolled": true
   },
   "outputs": [
    {
     "data": {
      "text/plain": [
       "UniqueID                                  0\n",
       "disbursed_amount                          0\n",
       "asset_cost                                0\n",
       "ltv                                       0\n",
       "branch_id                                 0\n",
       "supplier_id                               0\n",
       "manufacturer_id                           0\n",
       "Current_pincode_ID                        0\n",
       "Date.of.Birth                             0\n",
       "Employment.Type                        7661\n",
       "DisbursalDate                             0\n",
       "State_ID                                  0\n",
       "Employee_code_ID                          0\n",
       "MobileNo_Avl_Flag                         0\n",
       "Aadhar_flag                               0\n",
       "PAN_flag                                  0\n",
       "VoterID_flag                              0\n",
       "Driving_flag                              0\n",
       "Passport_flag                             0\n",
       "PERFORM_CNS.SCORE                         0\n",
       "PERFORM_CNS.SCORE.DESCRIPTION             0\n",
       "PRI.NO.OF.ACCTS                           0\n",
       "PRI.ACTIVE.ACCTS                          0\n",
       "PRI.OVERDUE.ACCTS                         0\n",
       "PRI.CURRENT.BALANCE                       0\n",
       "PRI.SANCTIONED.AMOUNT                     0\n",
       "PRI.DISBURSED.AMOUNT                      0\n",
       "SEC.NO.OF.ACCTS                           0\n",
       "SEC.ACTIVE.ACCTS                          0\n",
       "SEC.OVERDUE.ACCTS                         0\n",
       "SEC.CURRENT.BALANCE                       0\n",
       "SEC.SANCTIONED.AMOUNT                     0\n",
       "SEC.DISBURSED.AMOUNT                      0\n",
       "PRIMARY.INSTAL.AMT                        0\n",
       "SEC.INSTAL.AMT                            0\n",
       "NEW.ACCTS.IN.LAST.SIX.MONTHS              0\n",
       "DELINQUENT.ACCTS.IN.LAST.SIX.MONTHS       0\n",
       "AVERAGE.ACCT.AGE                          0\n",
       "CREDIT.HISTORY.LENGTH                     0\n",
       "NO.OF_INQUIRIES                           0\n",
       "loan_default                              0\n",
       "dtype: int64"
      ]
     },
     "execution_count": 6,
     "metadata": {},
     "output_type": "execute_result"
    }
   ],
   "source": [
    "training.isna().sum() # Checking for NULL values"
   ]
  },
  {
   "cell_type": "markdown",
   "metadata": {},
   "source": [
    "Only Employment.Type has 7661 NULL values"
   ]
  },
  {
   "cell_type": "code",
   "execution_count": 7,
   "metadata": {
    "scrolled": true
   },
   "outputs": [
    {
     "data": {
      "text/plain": [
       "Self employed    127635\n",
       "Salaried          97858\n",
       "Name: Employment.Type, dtype: int64"
      ]
     },
     "execution_count": 7,
     "metadata": {},
     "output_type": "execute_result"
    }
   ],
   "source": [
    "# training.nunique()\n",
    "training['Employment.Type'].value_counts()"
   ]
  },
  {
   "cell_type": "code",
   "execution_count": 8,
   "metadata": {},
   "outputs": [],
   "source": [
    "training['Employment.Type'] = training['Employment.Type'].fillna(training['Employment.Type'].mode()[0]) # Filling missing values"
   ]
  },
  {
   "cell_type": "code",
   "execution_count": 9,
   "metadata": {
    "scrolled": true
   },
   "outputs": [
    {
     "data": {
      "text/plain": [
       "UniqueID                               0\n",
       "disbursed_amount                       0\n",
       "asset_cost                             0\n",
       "ltv                                    0\n",
       "branch_id                              0\n",
       "supplier_id                            0\n",
       "manufacturer_id                        0\n",
       "Current_pincode_ID                     0\n",
       "Date.of.Birth                          0\n",
       "Employment.Type                        0\n",
       "DisbursalDate                          0\n",
       "State_ID                               0\n",
       "Employee_code_ID                       0\n",
       "MobileNo_Avl_Flag                      0\n",
       "Aadhar_flag                            0\n",
       "PAN_flag                               0\n",
       "VoterID_flag                           0\n",
       "Driving_flag                           0\n",
       "Passport_flag                          0\n",
       "PERFORM_CNS.SCORE                      0\n",
       "PERFORM_CNS.SCORE.DESCRIPTION          0\n",
       "PRI.NO.OF.ACCTS                        0\n",
       "PRI.ACTIVE.ACCTS                       0\n",
       "PRI.OVERDUE.ACCTS                      0\n",
       "PRI.CURRENT.BALANCE                    0\n",
       "PRI.SANCTIONED.AMOUNT                  0\n",
       "PRI.DISBURSED.AMOUNT                   0\n",
       "SEC.NO.OF.ACCTS                        0\n",
       "SEC.ACTIVE.ACCTS                       0\n",
       "SEC.OVERDUE.ACCTS                      0\n",
       "SEC.CURRENT.BALANCE                    0\n",
       "SEC.SANCTIONED.AMOUNT                  0\n",
       "SEC.DISBURSED.AMOUNT                   0\n",
       "PRIMARY.INSTAL.AMT                     0\n",
       "SEC.INSTAL.AMT                         0\n",
       "NEW.ACCTS.IN.LAST.SIX.MONTHS           0\n",
       "DELINQUENT.ACCTS.IN.LAST.SIX.MONTHS    0\n",
       "AVERAGE.ACCT.AGE                       0\n",
       "CREDIT.HISTORY.LENGTH                  0\n",
       "NO.OF_INQUIRIES                        0\n",
       "loan_default                           0\n",
       "dtype: int64"
      ]
     },
     "execution_count": 9,
     "metadata": {},
     "output_type": "execute_result"
    }
   ],
   "source": [
    "training.isna().sum()"
   ]
  },
  {
   "cell_type": "code",
   "execution_count": 10,
   "metadata": {},
   "outputs": [
    {
     "data": {
      "text/plain": [
       "0    182543\n",
       "1     50611\n",
       "Name: loan_default, dtype: int64"
      ]
     },
     "execution_count": 10,
     "metadata": {},
     "output_type": "execute_result"
    }
   ],
   "source": [
    "training.loan_default.value_counts()  # Checking number of observations for each target label --> Imbalanced Dataset"
   ]
  },
  {
   "cell_type": "markdown",
   "metadata": {},
   "source": [
    "## Feature Engineering"
   ]
  },
  {
   "cell_type": "code",
   "execution_count": 11,
   "metadata": {},
   "outputs": [
    {
     "data": {
      "text/plain": [
       "False"
      ]
     },
     "execution_count": 11,
     "metadata": {},
     "output_type": "execute_result"
    }
   ],
   "source": [
    "# Adding Age\n",
    "training['Date.of.Birth'] = pd.to_datetime(training['Date.of.Birth'], infer_datetime_format = True, format = '%d-%m-%y')\n",
    "training['DisbursalDate'] = pd.to_datetime(training['DisbursalDate'], infer_datetime_format = True, format = '%d-%m-%y')\n",
    "training['Age'] = (training['DisbursalDate'] - training['Date.of.Birth']).astype('<m8[Y]').astype(int)\n",
    "training['Age'].head(5)\n",
    "\n",
    "0 in training['Age'].values # Checking if any row has Age == 0"
   ]
  },
  {
   "cell_type": "code",
   "execution_count": 12,
   "metadata": {},
   "outputs": [
    {
     "data": {
      "text/html": [
       "<div>\n",
       "<style scoped>\n",
       "    .dataframe tbody tr th:only-of-type {\n",
       "        vertical-align: middle;\n",
       "    }\n",
       "\n",
       "    .dataframe tbody tr th {\n",
       "        vertical-align: top;\n",
       "    }\n",
       "\n",
       "    .dataframe thead th {\n",
       "        text-align: right;\n",
       "    }\n",
       "</style>\n",
       "<table border=\"1\" class=\"dataframe\">\n",
       "  <thead>\n",
       "    <tr style=\"text-align: right;\">\n",
       "      <th></th>\n",
       "      <th>UniqueID</th>\n",
       "      <th>disbursed_amount</th>\n",
       "      <th>asset_cost</th>\n",
       "      <th>ltv</th>\n",
       "      <th>branch_id</th>\n",
       "      <th>supplier_id</th>\n",
       "      <th>manufacturer_id</th>\n",
       "      <th>Current_pincode_ID</th>\n",
       "      <th>Date.of.Birth</th>\n",
       "      <th>Employment.Type</th>\n",
       "      <th>...</th>\n",
       "      <th>SEC.DISBURSED.AMOUNT</th>\n",
       "      <th>PRIMARY.INSTAL.AMT</th>\n",
       "      <th>SEC.INSTAL.AMT</th>\n",
       "      <th>NEW.ACCTS.IN.LAST.SIX.MONTHS</th>\n",
       "      <th>DELINQUENT.ACCTS.IN.LAST.SIX.MONTHS</th>\n",
       "      <th>AVERAGE.ACCT.AGE</th>\n",
       "      <th>CREDIT.HISTORY.LENGTH</th>\n",
       "      <th>NO.OF_INQUIRIES</th>\n",
       "      <th>loan_default</th>\n",
       "      <th>Age</th>\n",
       "    </tr>\n",
       "  </thead>\n",
       "  <tbody>\n",
       "    <tr>\n",
       "      <th>0</th>\n",
       "      <td>420825</td>\n",
       "      <td>50578</td>\n",
       "      <td>58400</td>\n",
       "      <td>89.55</td>\n",
       "      <td>67</td>\n",
       "      <td>22807</td>\n",
       "      <td>45</td>\n",
       "      <td>1441</td>\n",
       "      <td>1984-01-01</td>\n",
       "      <td>Salaried</td>\n",
       "      <td>...</td>\n",
       "      <td>0</td>\n",
       "      <td>0</td>\n",
       "      <td>0</td>\n",
       "      <td>0</td>\n",
       "      <td>0</td>\n",
       "      <td>0</td>\n",
       "      <td>0</td>\n",
       "      <td>0</td>\n",
       "      <td>0</td>\n",
       "      <td>34</td>\n",
       "    </tr>\n",
       "    <tr>\n",
       "      <th>1</th>\n",
       "      <td>537409</td>\n",
       "      <td>47145</td>\n",
       "      <td>65550</td>\n",
       "      <td>73.23</td>\n",
       "      <td>67</td>\n",
       "      <td>22807</td>\n",
       "      <td>45</td>\n",
       "      <td>1502</td>\n",
       "      <td>1985-07-31</td>\n",
       "      <td>Self employed</td>\n",
       "      <td>...</td>\n",
       "      <td>0</td>\n",
       "      <td>1991</td>\n",
       "      <td>0</td>\n",
       "      <td>0</td>\n",
       "      <td>1</td>\n",
       "      <td>23</td>\n",
       "      <td>23</td>\n",
       "      <td>0</td>\n",
       "      <td>1</td>\n",
       "      <td>33</td>\n",
       "    </tr>\n",
       "    <tr>\n",
       "      <th>2</th>\n",
       "      <td>417566</td>\n",
       "      <td>53278</td>\n",
       "      <td>61360</td>\n",
       "      <td>89.63</td>\n",
       "      <td>67</td>\n",
       "      <td>22807</td>\n",
       "      <td>45</td>\n",
       "      <td>1497</td>\n",
       "      <td>1985-08-24</td>\n",
       "      <td>Self employed</td>\n",
       "      <td>...</td>\n",
       "      <td>0</td>\n",
       "      <td>0</td>\n",
       "      <td>0</td>\n",
       "      <td>0</td>\n",
       "      <td>0</td>\n",
       "      <td>0</td>\n",
       "      <td>0</td>\n",
       "      <td>0</td>\n",
       "      <td>0</td>\n",
       "      <td>32</td>\n",
       "    </tr>\n",
       "    <tr>\n",
       "      <th>3</th>\n",
       "      <td>624493</td>\n",
       "      <td>57513</td>\n",
       "      <td>66113</td>\n",
       "      <td>88.48</td>\n",
       "      <td>67</td>\n",
       "      <td>22807</td>\n",
       "      <td>45</td>\n",
       "      <td>1501</td>\n",
       "      <td>1993-12-30</td>\n",
       "      <td>Self employed</td>\n",
       "      <td>...</td>\n",
       "      <td>0</td>\n",
       "      <td>31</td>\n",
       "      <td>0</td>\n",
       "      <td>0</td>\n",
       "      <td>0</td>\n",
       "      <td>8</td>\n",
       "      <td>15</td>\n",
       "      <td>1</td>\n",
       "      <td>1</td>\n",
       "      <td>24</td>\n",
       "    </tr>\n",
       "    <tr>\n",
       "      <th>4</th>\n",
       "      <td>539055</td>\n",
       "      <td>52378</td>\n",
       "      <td>60300</td>\n",
       "      <td>88.39</td>\n",
       "      <td>67</td>\n",
       "      <td>22807</td>\n",
       "      <td>45</td>\n",
       "      <td>1495</td>\n",
       "      <td>1977-12-09</td>\n",
       "      <td>Self employed</td>\n",
       "      <td>...</td>\n",
       "      <td>0</td>\n",
       "      <td>0</td>\n",
       "      <td>0</td>\n",
       "      <td>0</td>\n",
       "      <td>0</td>\n",
       "      <td>0</td>\n",
       "      <td>0</td>\n",
       "      <td>1</td>\n",
       "      <td>1</td>\n",
       "      <td>40</td>\n",
       "    </tr>\n",
       "  </tbody>\n",
       "</table>\n",
       "<p>5 rows × 42 columns</p>\n",
       "</div>"
      ],
      "text/plain": [
       "   UniqueID  disbursed_amount  asset_cost    ltv  branch_id  supplier_id  \\\n",
       "0    420825             50578       58400  89.55         67        22807   \n",
       "1    537409             47145       65550  73.23         67        22807   \n",
       "2    417566             53278       61360  89.63         67        22807   \n",
       "3    624493             57513       66113  88.48         67        22807   \n",
       "4    539055             52378       60300  88.39         67        22807   \n",
       "\n",
       "   manufacturer_id  Current_pincode_ID Date.of.Birth Employment.Type  ...  \\\n",
       "0               45                1441    1984-01-01        Salaried  ...   \n",
       "1               45                1502    1985-07-31   Self employed  ...   \n",
       "2               45                1497    1985-08-24   Self employed  ...   \n",
       "3               45                1501    1993-12-30   Self employed  ...   \n",
       "4               45                1495    1977-12-09   Self employed  ...   \n",
       "\n",
       "  SEC.DISBURSED.AMOUNT  PRIMARY.INSTAL.AMT  SEC.INSTAL.AMT  \\\n",
       "0                    0                   0               0   \n",
       "1                    0                1991               0   \n",
       "2                    0                   0               0   \n",
       "3                    0                  31               0   \n",
       "4                    0                   0               0   \n",
       "\n",
       "   NEW.ACCTS.IN.LAST.SIX.MONTHS  DELINQUENT.ACCTS.IN.LAST.SIX.MONTHS  \\\n",
       "0                             0                                    0   \n",
       "1                             0                                    1   \n",
       "2                             0                                    0   \n",
       "3                             0                                    0   \n",
       "4                             0                                    0   \n",
       "\n",
       "   AVERAGE.ACCT.AGE  CREDIT.HISTORY.LENGTH  NO.OF_INQUIRIES  loan_default  Age  \n",
       "0                 0                      0                0             0   34  \n",
       "1                23                     23                0             1   33  \n",
       "2                 0                      0                0             0   32  \n",
       "3                 8                     15                1             1   24  \n",
       "4                 0                      0                1             1   40  \n",
       "\n",
       "[5 rows x 42 columns]"
      ]
     },
     "execution_count": 12,
     "metadata": {},
     "output_type": "execute_result"
    }
   ],
   "source": [
    "# Converting 00 yrs 00 months format to months \n",
    "training['AVERAGE.ACCT.AGE'] = training['AVERAGE.ACCT.AGE'].apply(lambda x: int(re.findall(r'\\d+', x)[0])*12 + int(re.findall(r'\\d+', x)[1]))\n",
    "training['CREDIT.HISTORY.LENGTH'] = training['CREDIT.HISTORY.LENGTH'].apply(lambda x: int(re.findall(r'\\d+', x)[0])*12 + int(re.findall(r'\\d+', x)[1]))\n",
    "training.head(5)"
   ]
  },
  {
   "cell_type": "code",
   "execution_count": 13,
   "metadata": {},
   "outputs": [
    {
     "data": {
      "text/plain": [
       "array(['No Bureau History Available', 'I-Medium Risk', 'L-Very High Risk',\n",
       "       'A-Very Low Risk',\n",
       "       'Not Scored: Not Enough Info available on the customer',\n",
       "       'D-Very Low Risk', 'M-Very High Risk', 'B-Very Low Risk',\n",
       "       'C-Very Low Risk', 'E-Low Risk', 'H-Medium Risk', 'F-Low Risk',\n",
       "       'K-High Risk',\n",
       "       'Not Scored: No Activity seen on the customer (Inactive)',\n",
       "       'Not Scored: Sufficient History Not Available',\n",
       "       'Not Scored: No Updates available in last 36 months', 'G-Low Risk',\n",
       "       'J-High Risk', 'Not Scored: Only a Guarantor',\n",
       "       'Not Scored: More than 50 active Accounts found'], dtype=object)"
      ]
     },
     "execution_count": 13,
     "metadata": {},
     "output_type": "execute_result"
    }
   ],
   "source": [
    "training['PERFORM_CNS.SCORE.DESCRIPTION'].unique()"
   ]
  },
  {
   "cell_type": "code",
   "execution_count": 14,
   "metadata": {},
   "outputs": [],
   "source": [
    "# Downsizing the categorical values of PERFORM_CNS.SCORE.DESCRIPTION\n",
    "training['PERFORM_CNS.SCORE.DESCRIPTION'].replace({'No Bureau History Available' : 'No History'}, inplace = True)\n",
    "\n",
    "training['PERFORM_CNS.SCORE.DESCRIPTION'].replace(to_replace = [\n",
    "    'Not Scored: Not Enough Info available on the customer',\n",
    "    'Not Scored: No Activity seen on the customer (Inactive)',\n",
    "    'Not Scored: Sufficient History Not Available',\n",
    "    'Not Scored: No Updates available in last 36 months',\n",
    "    'Not Scored: Only a Guarantor',\n",
    "    'Not Scored: More than 50 active Accounts found'],\n",
    "    value = 'Not Scored', inplace = True)\n",
    "\n",
    "training['PERFORM_CNS.SCORE.DESCRIPTION'].replace(to_replace = [\n",
    "    'A-Very Low Risk',\n",
    "    'B-Very Low Risk',\n",
    "    'C-Very Low Risk',\n",
    "    'D-Very Low Risk'],\n",
    "    value = 'Very Low Risk', inplace = True)\n",
    "\n",
    "training['PERFORM_CNS.SCORE.DESCRIPTION'].replace(to_replace = [\n",
    "    'E-Low Risk',\n",
    "    'F-Low Risk',\n",
    "    'G-Low Risk'],\n",
    "    value = 'Low Risk', inplace = True)\n",
    "\n",
    "training['PERFORM_CNS.SCORE.DESCRIPTION'].replace(to_replace = [\n",
    "    'H-Medium Risk',\n",
    "    'I-Medium Risk'],\n",
    "    value = 'Medium Risk', inplace = True)\n",
    "\n",
    "training['PERFORM_CNS.SCORE.DESCRIPTION'].replace(to_replace = [\n",
    "    'J-High Risk',\n",
    "    'K-High Risk'],\n",
    "    value = 'High Risk', inplace = True)\n",
    "\n",
    "training['PERFORM_CNS.SCORE.DESCRIPTION'].replace(to_replace = [\n",
    "    'L-Very High Risk',\n",
    "    'M-Very High Risk'],\n",
    "    value = 'Very High Risk', inplace = True)"
   ]
  },
  {
   "cell_type": "code",
   "execution_count": 15,
   "metadata": {},
   "outputs": [
    {
     "data": {
      "text/plain": [
       "array(['No History', 'Medium Risk', 'Very High Risk', 'Very Low Risk',\n",
       "       'Not Scored', 'Low Risk', 'High Risk'], dtype=object)"
      ]
     },
     "execution_count": 15,
     "metadata": {},
     "output_type": "execute_result"
    }
   ],
   "source": [
    "training['PERFORM_CNS.SCORE.DESCRIPTION'].unique()"
   ]
  },
  {
   "cell_type": "code",
   "execution_count": 16,
   "metadata": {},
   "outputs": [],
   "source": [
    "training['TOTAL_NO_OF_ACCTS'] = training['PRI.NO.OF.ACCTS'] + training['SEC.NO.OF.ACCTS']\n",
    "training['TOTAL_ACTIVE_ACCTS'] = training['PRI.ACTIVE.ACCTS'] + training['SEC.ACTIVE.ACCTS']\n",
    "training['TOTAL_OVERDUE_ACCTS'] = training['PRI.OVERDUE.ACCTS'] + training['SEC.OVERDUE.ACCTS']\n",
    "training['TOTAL_CURRENT_BALANCE'] = training['PRI.CURRENT.BALANCE'] + training['SEC.CURRENT.BALANCE']\n",
    "training['TOTAL_SANCTIONED_AMOUNT'] = training['PRI.SANCTIONED.AMOUNT'] + training['SEC.SANCTIONED.AMOUNT']\n",
    "training['TOTAL_DISBURSED_AMOUNT'] = training['PRI.DISBURSED.AMOUNT'] + training['SEC.DISBURSED.AMOUNT']\n",
    "training['TOTAL_INSTALL_AMOUNT'] = training['PRIMARY.INSTAL.AMT'] + training['SEC.INSTAL.AMT']"
   ]
  },
  {
   "cell_type": "code",
   "execution_count": 17,
   "metadata": {},
   "outputs": [],
   "source": [
    "# Labelling categorical data\n",
    "cns_risk_label = {'No History' : 0, 'Not Scored' : 0, 'Very Low Risk' : 1, 'Low Risk' : 2, \n",
    "              'Medium Risk': 3, 'High Risk': 4, 'Very High Risk': 5}\n",
    "employment_label = {'Self employed' : 0, 'Salaried' : 1}\n",
    "training.loc[:,'employment_label'] = training.loc[:,'Employment.Type'].apply(lambda x: employment_label[x])\n",
    "training.loc[:,'cns_risk_label'] = (training.loc[:,'PERFORM_CNS.SCORE.DESCRIPTION'].apply(lambda x: cns_risk_label[x]))"
   ]
  },
  {
   "cell_type": "code",
   "execution_count": 18,
   "metadata": {},
   "outputs": [],
   "source": [
    "# Dropping unwanted columns\n",
    "columns_to_drop = ['UniqueID', 'ltv', 'branch_id', 'supplier_id', 'manufacturer_id', 'Current_pincode_ID',\n",
    "                   'Date.of.Birth', 'Employment.Type','DisbursalDate', 'State_ID', 'Employee_code_ID', 'PERFORM_CNS.SCORE.DESCRIPTION']"
   ]
  },
  {
   "cell_type": "code",
   "execution_count": 19,
   "metadata": {
    "scrolled": true
   },
   "outputs": [],
   "source": [
    "train_df = training.drop(columns = columns_to_drop)"
   ]
  },
  {
   "cell_type": "code",
   "execution_count": 20,
   "metadata": {
    "scrolled": true
   },
   "outputs": [
    {
     "data": {
      "text/html": [
       "<div>\n",
       "<style scoped>\n",
       "    .dataframe tbody tr th:only-of-type {\n",
       "        vertical-align: middle;\n",
       "    }\n",
       "\n",
       "    .dataframe tbody tr th {\n",
       "        vertical-align: top;\n",
       "    }\n",
       "\n",
       "    .dataframe thead th {\n",
       "        text-align: right;\n",
       "    }\n",
       "</style>\n",
       "<table border=\"1\" class=\"dataframe\">\n",
       "  <thead>\n",
       "    <tr style=\"text-align: right;\">\n",
       "      <th></th>\n",
       "      <th>disbursed_amount</th>\n",
       "      <th>asset_cost</th>\n",
       "      <th>MobileNo_Avl_Flag</th>\n",
       "      <th>Aadhar_flag</th>\n",
       "      <th>PAN_flag</th>\n",
       "      <th>VoterID_flag</th>\n",
       "      <th>Driving_flag</th>\n",
       "      <th>Passport_flag</th>\n",
       "      <th>PERFORM_CNS.SCORE</th>\n",
       "      <th>PRI.NO.OF.ACCTS</th>\n",
       "      <th>...</th>\n",
       "      <th>Age</th>\n",
       "      <th>TOTAL_NO_OF_ACCTS</th>\n",
       "      <th>TOTAL_ACTIVE_ACCTS</th>\n",
       "      <th>TOTAL_OVERDUE_ACCTS</th>\n",
       "      <th>TOTAL_CURRENT_BALANCE</th>\n",
       "      <th>TOTAL_SANCTIONED_AMOUNT</th>\n",
       "      <th>TOTAL_DISBURSED_AMOUNT</th>\n",
       "      <th>TOTAL_INSTALL_AMOUNT</th>\n",
       "      <th>employment_label</th>\n",
       "      <th>cns_risk_label</th>\n",
       "    </tr>\n",
       "  </thead>\n",
       "  <tbody>\n",
       "    <tr>\n",
       "      <th>0</th>\n",
       "      <td>50578</td>\n",
       "      <td>58400</td>\n",
       "      <td>1</td>\n",
       "      <td>1</td>\n",
       "      <td>0</td>\n",
       "      <td>0</td>\n",
       "      <td>0</td>\n",
       "      <td>0</td>\n",
       "      <td>0</td>\n",
       "      <td>0</td>\n",
       "      <td>...</td>\n",
       "      <td>34</td>\n",
       "      <td>0</td>\n",
       "      <td>0</td>\n",
       "      <td>0</td>\n",
       "      <td>0</td>\n",
       "      <td>0</td>\n",
       "      <td>0</td>\n",
       "      <td>0</td>\n",
       "      <td>1</td>\n",
       "      <td>0</td>\n",
       "    </tr>\n",
       "    <tr>\n",
       "      <th>1</th>\n",
       "      <td>47145</td>\n",
       "      <td>65550</td>\n",
       "      <td>1</td>\n",
       "      <td>1</td>\n",
       "      <td>0</td>\n",
       "      <td>0</td>\n",
       "      <td>0</td>\n",
       "      <td>0</td>\n",
       "      <td>598</td>\n",
       "      <td>1</td>\n",
       "      <td>...</td>\n",
       "      <td>33</td>\n",
       "      <td>1</td>\n",
       "      <td>1</td>\n",
       "      <td>1</td>\n",
       "      <td>27600</td>\n",
       "      <td>50200</td>\n",
       "      <td>50200</td>\n",
       "      <td>1991</td>\n",
       "      <td>0</td>\n",
       "      <td>3</td>\n",
       "    </tr>\n",
       "    <tr>\n",
       "      <th>2</th>\n",
       "      <td>53278</td>\n",
       "      <td>61360</td>\n",
       "      <td>1</td>\n",
       "      <td>1</td>\n",
       "      <td>0</td>\n",
       "      <td>0</td>\n",
       "      <td>0</td>\n",
       "      <td>0</td>\n",
       "      <td>0</td>\n",
       "      <td>0</td>\n",
       "      <td>...</td>\n",
       "      <td>32</td>\n",
       "      <td>0</td>\n",
       "      <td>0</td>\n",
       "      <td>0</td>\n",
       "      <td>0</td>\n",
       "      <td>0</td>\n",
       "      <td>0</td>\n",
       "      <td>0</td>\n",
       "      <td>0</td>\n",
       "      <td>0</td>\n",
       "    </tr>\n",
       "    <tr>\n",
       "      <th>3</th>\n",
       "      <td>57513</td>\n",
       "      <td>66113</td>\n",
       "      <td>1</td>\n",
       "      <td>1</td>\n",
       "      <td>0</td>\n",
       "      <td>0</td>\n",
       "      <td>0</td>\n",
       "      <td>0</td>\n",
       "      <td>305</td>\n",
       "      <td>3</td>\n",
       "      <td>...</td>\n",
       "      <td>24</td>\n",
       "      <td>3</td>\n",
       "      <td>0</td>\n",
       "      <td>0</td>\n",
       "      <td>0</td>\n",
       "      <td>0</td>\n",
       "      <td>0</td>\n",
       "      <td>31</td>\n",
       "      <td>0</td>\n",
       "      <td>5</td>\n",
       "    </tr>\n",
       "    <tr>\n",
       "      <th>4</th>\n",
       "      <td>52378</td>\n",
       "      <td>60300</td>\n",
       "      <td>1</td>\n",
       "      <td>1</td>\n",
       "      <td>0</td>\n",
       "      <td>0</td>\n",
       "      <td>0</td>\n",
       "      <td>0</td>\n",
       "      <td>0</td>\n",
       "      <td>0</td>\n",
       "      <td>...</td>\n",
       "      <td>40</td>\n",
       "      <td>0</td>\n",
       "      <td>0</td>\n",
       "      <td>0</td>\n",
       "      <td>0</td>\n",
       "      <td>0</td>\n",
       "      <td>0</td>\n",
       "      <td>0</td>\n",
       "      <td>0</td>\n",
       "      <td>0</td>\n",
       "    </tr>\n",
       "  </tbody>\n",
       "</table>\n",
       "<p>5 rows × 39 columns</p>\n",
       "</div>"
      ],
      "text/plain": [
       "   disbursed_amount  asset_cost  MobileNo_Avl_Flag  Aadhar_flag  PAN_flag  \\\n",
       "0             50578       58400                  1            1         0   \n",
       "1             47145       65550                  1            1         0   \n",
       "2             53278       61360                  1            1         0   \n",
       "3             57513       66113                  1            1         0   \n",
       "4             52378       60300                  1            1         0   \n",
       "\n",
       "   VoterID_flag  Driving_flag  Passport_flag  PERFORM_CNS.SCORE  \\\n",
       "0             0             0              0                  0   \n",
       "1             0             0              0                598   \n",
       "2             0             0              0                  0   \n",
       "3             0             0              0                305   \n",
       "4             0             0              0                  0   \n",
       "\n",
       "   PRI.NO.OF.ACCTS  ...  Age  TOTAL_NO_OF_ACCTS  TOTAL_ACTIVE_ACCTS  \\\n",
       "0                0  ...   34                  0                   0   \n",
       "1                1  ...   33                  1                   1   \n",
       "2                0  ...   32                  0                   0   \n",
       "3                3  ...   24                  3                   0   \n",
       "4                0  ...   40                  0                   0   \n",
       "\n",
       "   TOTAL_OVERDUE_ACCTS  TOTAL_CURRENT_BALANCE  TOTAL_SANCTIONED_AMOUNT  \\\n",
       "0                    0                      0                        0   \n",
       "1                    1                  27600                    50200   \n",
       "2                    0                      0                        0   \n",
       "3                    0                      0                        0   \n",
       "4                    0                      0                        0   \n",
       "\n",
       "   TOTAL_DISBURSED_AMOUNT  TOTAL_INSTALL_AMOUNT  employment_label  \\\n",
       "0                       0                     0                 1   \n",
       "1                   50200                  1991                 0   \n",
       "2                       0                     0                 0   \n",
       "3                       0                    31                 0   \n",
       "4                       0                     0                 0   \n",
       "\n",
       "   cns_risk_label  \n",
       "0               0  \n",
       "1               3  \n",
       "2               0  \n",
       "3               5  \n",
       "4               0  \n",
       "\n",
       "[5 rows x 39 columns]"
      ]
     },
     "execution_count": 20,
     "metadata": {},
     "output_type": "execute_result"
    }
   ],
   "source": [
    "train_df.head()"
   ]
  },
  {
   "cell_type": "markdown",
   "metadata": {},
   "source": [
    "### Doing the same for testing data"
   ]
  },
  {
   "cell_type": "code",
   "execution_count": 21,
   "metadata": {},
   "outputs": [],
   "source": [
    "testing = pd.read_csv('test_bqCt9Pv.csv', infer_datetime_format = True)"
   ]
  },
  {
   "cell_type": "code",
   "execution_count": 22,
   "metadata": {},
   "outputs": [],
   "source": [
    "testing['Employment.Type'] = testing['Employment.Type'].fillna(testing['Employment.Type'].mode()[0]) # Filling missing values\n",
    "\n",
    "testing['Date.of.Birth'] = pd.to_datetime(testing['Date.of.Birth'], infer_datetime_format = True, format = '%d-%m-%y')\n",
    "testing['DisbursalDate'] = pd.to_datetime(testing['DisbursalDate'], infer_datetime_format = True, format = '%d-%m-%y')\n",
    "testing['Age'] = (testing['DisbursalDate'] - testing['Date.of.Birth']).astype('<m8[Y]').astype(int)\n",
    "\n",
    "testing['AVERAGE.ACCT.AGE'] = testing['AVERAGE.ACCT.AGE'].apply(lambda x: int(re.findall(r'\\d+', x)[0])*12 + int(re.findall(r'\\d+', x)[1]))\n",
    "testing['CREDIT.HISTORY.LENGTH'] = testing['CREDIT.HISTORY.LENGTH'].apply(lambda x: int(re.findall(r'\\d+', x)[0])*12 + int(re.findall(r'\\d+', x)[1]))\n",
    "\n",
    "testing['PERFORM_CNS.SCORE.DESCRIPTION'] = testing['PERFORM_CNS.SCORE.DESCRIPTION'].replace({'No Bureau History Available' : 'No History'})\n",
    "\n",
    "testing['PERFORM_CNS.SCORE.DESCRIPTION'] = testing['PERFORM_CNS.SCORE.DESCRIPTION'].replace(to_replace = [\n",
    "    'Not Scored: Not Enough Info available on the customer',\n",
    "    'Not Scored: No Activity seen on the customer (Inactive)',\n",
    "    'Not Scored: Sufficient History Not Available',\n",
    "    'Not Scored: No Updates available in last 36 months',\n",
    "    'Not Scored: Only a Guarantor',\n",
    "    'Not Scored: More than 50 active Accounts found'],\n",
    "    value = 'Not Scored')\n",
    "\n",
    "testing['PERFORM_CNS.SCORE.DESCRIPTION'] = testing['PERFORM_CNS.SCORE.DESCRIPTION'].replace(to_replace = [\n",
    "    'A-Very Low Risk',\n",
    "    'B-Very Low Risk',\n",
    "    'C-Very Low Risk',\n",
    "    'D-Very Low Risk'],\n",
    "    value = 'Very Low Risk')\n",
    "\n",
    "testing['PERFORM_CNS.SCORE.DESCRIPTION'] = testing['PERFORM_CNS.SCORE.DESCRIPTION'].replace(to_replace = [\n",
    "    'E-Low Risk',\n",
    "    'F-Low Risk',\n",
    "    'G-Low Risk'],\n",
    "    value = 'Low Risk')\n",
    "\n",
    "testing['PERFORM_CNS.SCORE.DESCRIPTION'] = testing['PERFORM_CNS.SCORE.DESCRIPTION'].replace(to_replace = [\n",
    "    'H-Medium Risk',\n",
    "    'I-Medium Risk'],\n",
    "    value = 'Medium Risk')\n",
    "\n",
    "testing['PERFORM_CNS.SCORE.DESCRIPTION'] = testing['PERFORM_CNS.SCORE.DESCRIPTION'].replace(to_replace = [\n",
    "    'J-High Risk',\n",
    "    'K-High Risk'],\n",
    "    value = 'High Risk')\n",
    "\n",
    "testing['PERFORM_CNS.SCORE.DESCRIPTION'] = testing['PERFORM_CNS.SCORE.DESCRIPTION'].replace(to_replace = [\n",
    "    'L-Very High Risk',\n",
    "    'M-Very High Risk'],\n",
    "    value = 'Very High Risk')\n",
    "\n",
    "testing['TOTAL_NO_OF_ACCTS'] = testing['PRI.NO.OF.ACCTS'] + testing['SEC.NO.OF.ACCTS']\n",
    "testing['TOTAL_ACTIVE_ACCTS'] = testing['PRI.ACTIVE.ACCTS'] + testing['SEC.ACTIVE.ACCTS']\n",
    "testing['TOTAL_OVERDUE_ACCTS'] = testing['PRI.OVERDUE.ACCTS'] + testing['SEC.OVERDUE.ACCTS']\n",
    "testing['TOTAL_CURRENT_BALANCE'] = testing['PRI.CURRENT.BALANCE'] + testing['SEC.CURRENT.BALANCE']\n",
    "testing['TOTAL_SANCTIONED_AMOUNT'] = testing['PRI.SANCTIONED.AMOUNT'] + testing['SEC.SANCTIONED.AMOUNT']\n",
    "testing['TOTAL_DISBURSED_AMOUNT'] = testing['PRI.DISBURSED.AMOUNT'] + testing['SEC.DISBURSED.AMOUNT']\n",
    "testing['TOTAL_INSTALL_AMOUNT'] = testing['PRIMARY.INSTAL.AMT'] + testing['SEC.INSTAL.AMT']\n",
    "\n",
    "cns_risk_label = {'No History' : 0, 'Not Scored' : 0, 'Very Low Risk' : 1, 'Low Risk' : 2, \n",
    "              'Medium Risk': 3, 'High Risk': 4, 'Very High Risk': 5}\n",
    "employment_label = {'Self employed' : 0, 'Salaried' : 1}\n",
    "\n",
    "testing.loc[:,'employment_label'] = testing.loc[:,'Employment.Type'].apply(lambda x: employment_label[x])\n",
    "testing.loc[:,'cns_risk_label'] = (testing.loc[:,'PERFORM_CNS.SCORE.DESCRIPTION'].apply(lambda x: cns_risk_label[x]))"
   ]
  },
  {
   "cell_type": "code",
   "execution_count": 23,
   "metadata": {},
   "outputs": [],
   "source": [
    "test_df = testing.drop(columns = columns_to_drop)"
   ]
  },
  {
   "cell_type": "code",
   "execution_count": 24,
   "metadata": {},
   "outputs": [
    {
     "name": "stdout",
     "output_type": "stream",
     "text": [
      "Shape of training data: (233154, 39)\n",
      "Shape of testing data: (112392, 38)\n"
     ]
    }
   ],
   "source": [
    "print('Shape of training data:', train_df.shape)\n",
    "print('Shape of testing data:', test_df.shape)"
   ]
  },
  {
   "cell_type": "code",
   "execution_count": 25,
   "metadata": {
    "scrolled": true
   },
   "outputs": [
    {
     "name": "stdout",
     "output_type": "stream",
     "text": [
      "<class 'pandas.core.frame.DataFrame'>\n",
      "RangeIndex: 233154 entries, 0 to 233153\n",
      "Data columns (total 39 columns):\n",
      " #   Column                               Non-Null Count   Dtype\n",
      "---  ------                               --------------   -----\n",
      " 0   disbursed_amount                     233154 non-null  int64\n",
      " 1   asset_cost                           233154 non-null  int64\n",
      " 2   MobileNo_Avl_Flag                    233154 non-null  int64\n",
      " 3   Aadhar_flag                          233154 non-null  int64\n",
      " 4   PAN_flag                             233154 non-null  int64\n",
      " 5   VoterID_flag                         233154 non-null  int64\n",
      " 6   Driving_flag                         233154 non-null  int64\n",
      " 7   Passport_flag                        233154 non-null  int64\n",
      " 8   PERFORM_CNS.SCORE                    233154 non-null  int64\n",
      " 9   PRI.NO.OF.ACCTS                      233154 non-null  int64\n",
      " 10  PRI.ACTIVE.ACCTS                     233154 non-null  int64\n",
      " 11  PRI.OVERDUE.ACCTS                    233154 non-null  int64\n",
      " 12  PRI.CURRENT.BALANCE                  233154 non-null  int64\n",
      " 13  PRI.SANCTIONED.AMOUNT                233154 non-null  int64\n",
      " 14  PRI.DISBURSED.AMOUNT                 233154 non-null  int64\n",
      " 15  SEC.NO.OF.ACCTS                      233154 non-null  int64\n",
      " 16  SEC.ACTIVE.ACCTS                     233154 non-null  int64\n",
      " 17  SEC.OVERDUE.ACCTS                    233154 non-null  int64\n",
      " 18  SEC.CURRENT.BALANCE                  233154 non-null  int64\n",
      " 19  SEC.SANCTIONED.AMOUNT                233154 non-null  int64\n",
      " 20  SEC.DISBURSED.AMOUNT                 233154 non-null  int64\n",
      " 21  PRIMARY.INSTAL.AMT                   233154 non-null  int64\n",
      " 22  SEC.INSTAL.AMT                       233154 non-null  int64\n",
      " 23  NEW.ACCTS.IN.LAST.SIX.MONTHS         233154 non-null  int64\n",
      " 24  DELINQUENT.ACCTS.IN.LAST.SIX.MONTHS  233154 non-null  int64\n",
      " 25  AVERAGE.ACCT.AGE                     233154 non-null  int64\n",
      " 26  CREDIT.HISTORY.LENGTH                233154 non-null  int64\n",
      " 27  NO.OF_INQUIRIES                      233154 non-null  int64\n",
      " 28  loan_default                         233154 non-null  int64\n",
      " 29  Age                                  233154 non-null  int32\n",
      " 30  TOTAL_NO_OF_ACCTS                    233154 non-null  int64\n",
      " 31  TOTAL_ACTIVE_ACCTS                   233154 non-null  int64\n",
      " 32  TOTAL_OVERDUE_ACCTS                  233154 non-null  int64\n",
      " 33  TOTAL_CURRENT_BALANCE                233154 non-null  int64\n",
      " 34  TOTAL_SANCTIONED_AMOUNT              233154 non-null  int64\n",
      " 35  TOTAL_DISBURSED_AMOUNT               233154 non-null  int64\n",
      " 36  TOTAL_INSTALL_AMOUNT                 233154 non-null  int64\n",
      " 37  employment_label                     233154 non-null  int64\n",
      " 38  cns_risk_label                       233154 non-null  int64\n",
      "dtypes: int32(1), int64(38)\n",
      "memory usage: 68.5 MB\n"
     ]
    }
   ],
   "source": [
    "train_df.info()"
   ]
  },
  {
   "cell_type": "markdown",
   "metadata": {},
   "source": [
    "Since the data is varying for each column dramatically(E.g. asset_cost: 10^3 and PAN_flag: 1-0), we need to scale the data so the model is not thrown off with the differences in columns."
   ]
  },
  {
   "cell_type": "code",
   "execution_count": 26,
   "metadata": {},
   "outputs": [],
   "source": [
    "from sklearn.preprocessing import RobustScaler\n",
    "from sklearn.model_selection import train_test_split,cross_val_score,GridSearchCV,StratifiedKFold,cross_validate\n",
    "from sklearn.linear_model import LogisticRegression\n",
    "from sklearn.ensemble import RandomForestClassifier\n",
    "from sklearn.tree import DecisionTreeClassifier\n",
    "from sklearn.ensemble import ExtraTreesClassifier \n",
    "from sklearn.metrics import accuracy_score,f1_score,confusion_matrix,recall_score,roc_auc_score,roc_curve,auc"
   ]
  },
  {
   "cell_type": "markdown",
   "metadata": {},
   "source": [
    "### Scaling Data"
   ]
  },
  {
   "cell_type": "code",
   "execution_count": 27,
   "metadata": {
    "scrolled": true
   },
   "outputs": [
    {
     "name": "stdout",
     "output_type": "stream",
     "text": [
      "Shape of X_train: (186523, 38)\n",
      "Shape of X_test: (46631, 38)\n",
      "Shape of y_train: (186523,)\n",
      "Shape of y_test: (46631,)\n"
     ]
    }
   ],
   "source": [
    "features = ['disbursed_amount', 'asset_cost', 'MobileNo_Avl_Flag','Aadhar_flag', 'PAN_flag', 'VoterID_flag', 'Driving_flag', 'Passport_flag',\n",
    "'PERFORM_CNS.SCORE', 'PRI.NO.OF.ACCTS','PRI.ACTIVE.ACCTS','PRI.OVERDUE.ACCTS', 'PRI.CURRENT.BALANCE', 'PRI.SANCTIONED.AMOUNT','PRI.DISBURSED.AMOUNT',\n",
    "'SEC.NO.OF.ACCTS','SEC.ACTIVE.ACCTS','SEC.OVERDUE.ACCTS', 'SEC.CURRENT.BALANCE', 'SEC.SANCTIONED.AMOUNT','SEC.DISBURSED.AMOUNT',\n",
    "'PRIMARY.INSTAL.AMT','SEC.INSTAL.AMT','NEW.ACCTS.IN.LAST.SIX.MONTHS', 'DELINQUENT.ACCTS.IN.LAST.SIX.MONTHS','AVERAGE.ACCT.AGE',\n",
    "'CREDIT.HISTORY.LENGTH','NO.OF_INQUIRIES','Age','TOTAL_NO_OF_ACCTS','TOTAL_ACTIVE_ACCTS','TOTAL_OVERDUE_ACCTS','TOTAL_CURRENT_BALANCE',\n",
    "'TOTAL_SANCTIONED_AMOUNT','TOTAL_DISBURSED_AMOUNT', 'TOTAL_INSTALL_AMOUNT','employment_label','cns_risk_label']\n",
    "\n",
    "# features = ['disbursed_amount', 'asset_cost', 'MobileNo_Avl_Flag','Aadhar_flag', 'PAN_flag', 'VoterID_flag', 'Driving_flag', 'Passport_flag',\n",
    "# 'PERFORM_CNS.SCORE','NEW.ACCTS.IN.LAST.SIX.MONTHS', 'DELINQUENT.ACCTS.IN.LAST.SIX.MONTHS','AVERAGE.ACCT.AGE',\n",
    "# 'CREDIT.HISTORY.LENGTH','NO.OF_INQUIRIES','Age','TOTAL_NO_OF_ACCTS','TOTAL_ACTIVE_ACCTS','TOTAL_OVERDUE_ACCTS','TOTAL_CURRENT_BALANCE',\n",
    "# 'TOTAL_SANCTIONED_AMOUNT','TOTAL_DISBURSED_AMOUNT', 'TOTAL_INSTALL_AMOUNT','employment_label','cns_risk_label']\n",
    "\n",
    "scaler = RobustScaler()\n",
    "\n",
    "scaled_train = train_df.copy()\n",
    "scaled_test = test_df.copy()\n",
    "\n",
    "scaled_train[features] = scaler.fit_transform(train_df[features])\n",
    "scaled_test[features] = scaler.fit_transform(test_df[features])\n",
    "\n",
    "X = scaled_train[features]\n",
    "y = scaled_train['loan_default']\n",
    "\n",
    "X_train, X_test, y_train, y_test = train_test_split(X, y, test_size = 0.2, random_state = 0)\n",
    "\n",
    "print('Shape of X_train:', X_train.shape)\n",
    "print('Shape of X_test:', X_test.shape)\n",
    "print('Shape of y_train:', y_train.shape)\n",
    "print('Shape of y_test:', y_test.shape)"
   ]
  },
  {
   "cell_type": "markdown",
   "metadata": {},
   "source": [
    "### Training the Model"
   ]
  },
  {
   "cell_type": "code",
   "execution_count": 28,
   "metadata": {},
   "outputs": [],
   "source": [
    "def train_model(model):\n",
    "    model = model.fit(X_train,y_train)\n",
    "    pred = model.predict(X_test)\n",
    "    print('------', model, '------')\n",
    "    print('Accuracy Score',accuracy_score(y_test, pred))\n",
    "    print('Recall_score:',round(recall_score(y_test, pred),2))\n",
    "    print('F1_score:',round(f1_score(y_test, pred),2))\n",
    "    print('roc_auc_score:',round(roc_auc_score(y_test, pred), 2))\n",
    "    print('Confusion_matrix')\n",
    "    print(pd.DataFrame(confusion_matrix(y_test, pred)))\n",
    "    print('-'*50)\n",
    "    return model"
   ]
  },
  {
   "cell_type": "code",
   "execution_count": 29,
   "metadata": {},
   "outputs": [
    {
     "name": "stdout",
     "output_type": "stream",
     "text": [
      "------ LogisticRegression(max_iter=150) ------\n",
      "Accuracy Score 0.7847783663228325\n",
      "Recall_score: 0.0\n",
      "F1_score: 0.0\n",
      "roc_auc_score: 0.5\n",
      "Confusion_matrix\n",
      "       0   1\n",
      "0  36595  19\n",
      "1  10017   0\n",
      "--------------------------------------------------\n",
      "------ RandomForestClassifier(max_depth=7, max_features=1, min_samples_split=25) ------\n",
      "Accuracy Score 0.785185820591452\n",
      "Recall_score: 0.0\n",
      "F1_score: 0.0\n",
      "roc_auc_score: 0.5\n",
      "Confusion_matrix\n",
      "       0  1\n",
      "0  36614  0\n",
      "1  10017  0\n",
      "--------------------------------------------------\n",
      "------ DecisionTreeClassifier(criterion='entropy', max_depth=3) ------\n",
      "Accuracy Score 0.785185820591452\n",
      "Recall_score: 0.0\n",
      "F1_score: 0.0\n",
      "roc_auc_score: 0.5\n",
      "Confusion_matrix\n",
      "       0  1\n",
      "0  36614  0\n",
      "1  10017  0\n",
      "--------------------------------------------------\n",
      "------ ExtraTreesClassifier() ------\n",
      "Accuracy Score 0.7565567969805495\n",
      "Recall_score: 0.08\n",
      "F1_score: 0.13\n",
      "roc_auc_score: 0.51\n",
      "Confusion_matrix\n",
      "       0     1\n",
      "0  34442  2172\n",
      "1   9180   837\n",
      "--------------------------------------------------\n"
     ]
    }
   ],
   "source": [
    "lr = train_model(LogisticRegression(max_iter = 150))\n",
    "rfc = train_model(RandomForestClassifier(n_estimators=100, min_samples_split=25, max_depth=7, max_features=1))\n",
    "dtc = train_model(DecisionTreeClassifier(criterion=\"entropy\", max_depth=3))\n",
    "etc = train_model(ExtraTreesClassifier())"
   ]
  },
  {
   "cell_type": "markdown",
   "metadata": {},
   "source": [
    "Since it is an imbalanced dataset, the recall score is low and the model is biased towards detecting the loan_default as 0 even when the true value is 1."
   ]
  },
  {
   "cell_type": "code",
   "execution_count": 30,
   "metadata": {},
   "outputs": [
    {
     "data": {
      "text/plain": [
       "0    182543\n",
       "1     50611\n",
       "Name: loan_default, dtype: int64"
      ]
     },
     "execution_count": 30,
     "metadata": {},
     "output_type": "execute_result"
    }
   ],
   "source": [
    "train_df.loan_default.value_counts()"
   ]
  },
  {
   "cell_type": "markdown",
   "metadata": {},
   "source": [
    "### Balancing the data using SMOTE"
   ]
  },
  {
   "cell_type": "code",
   "execution_count": 31,
   "metadata": {},
   "outputs": [
    {
     "name": "stdout",
     "output_type": "stream",
     "text": [
      "Class Label Distribution BEFORE Oversampling:\n",
      "0    182543\n",
      "1     50611\n",
      "Name: loan_default, dtype: int64\n",
      "--------------------------------------------------\n",
      "Class Label Distribution AFTER Oversampling:\n",
      "1    182543\n",
      "0    182543\n",
      "Name: loan_default, dtype: int64\n"
     ]
    }
   ],
   "source": [
    "# Oversampling using SMOTE\n",
    "from imblearn.over_sampling import SMOTE\n",
    "print('Class Label Distribution BEFORE Oversampling:')\n",
    "print(train_df.loan_default.value_counts())\n",
    "print('-'*50)\n",
    "\n",
    "oversample = SMOTE(random_state = 2)\n",
    "X, y = oversample.fit_resample(X, y)\n",
    "X_train, X_test, y_train, y_test = train_test_split(X, y, test_size = 0.2, random_state = 0)\n",
    "print('Class Label Distribution AFTER Oversampling:')\n",
    "print(y.value_counts())"
   ]
  },
  {
   "cell_type": "markdown",
   "metadata": {},
   "source": [
    "The dataset is now balanced."
   ]
  },
  {
   "cell_type": "code",
   "execution_count": 32,
   "metadata": {},
   "outputs": [
    {
     "name": "stdout",
     "output_type": "stream",
     "text": [
      "------ LogisticRegression() ------\n",
      "Accuracy Score 0.5410994549289216\n",
      "Recall_score: 0.38\n",
      "F1_score: 0.45\n",
      "roc_auc_score: 0.54\n",
      "Confusion_matrix\n",
      "       0      1\n",
      "0  25814  10833\n",
      "1  22675  13696\n",
      "--------------------------------------------------\n",
      "------ RandomForestClassifier(max_depth=7, max_features=1, min_samples_split=25) ------\n",
      "Accuracy Score 0.6253800432770001\n",
      "Recall_score: 0.72\n",
      "F1_score: 0.66\n",
      "roc_auc_score: 0.63\n",
      "Confusion_matrix\n",
      "       0      1\n",
      "0  19469  17178\n",
      "1  10176  26195\n",
      "--------------------------------------------------\n",
      "------ DecisionTreeClassifier(criterion='entropy', max_depth=3) ------\n",
      "Accuracy Score 0.5721876797501986\n",
      "Recall_score: 0.67\n",
      "F1_score: 0.61\n",
      "roc_auc_score: 0.57\n",
      "Confusion_matrix\n",
      "       0      1\n",
      "0  17364  19283\n",
      "1  11955  24416\n",
      "--------------------------------------------------\n",
      "------ ExtraTreesClassifier() ------\n",
      "Accuracy Score 0.8425045879098304\n",
      "Recall_score: 0.83\n",
      "F1_score: 0.84\n",
      "roc_auc_score: 0.84\n",
      "Confusion_matrix\n",
      "       0      1\n",
      "0  31500   5147\n",
      "1   6353  30018\n",
      "--------------------------------------------------\n"
     ]
    }
   ],
   "source": [
    "lr = train_model(LogisticRegression(max_iter = 100))\n",
    "rfc = train_model(RandomForestClassifier(n_estimators=100, min_samples_split=25, max_depth=7, max_features=1))\n",
    "dtc = train_model(DecisionTreeClassifier(criterion=\"entropy\", max_depth=3))\n",
    "etc = train_model(ExtraTreesClassifier())"
   ]
  },
  {
   "cell_type": "markdown",
   "metadata": {},
   "source": [
    "Extra Trees Classifier gives better recall and roc-auc score with better accuracy."
   ]
  },
  {
   "cell_type": "markdown",
   "metadata": {},
   "source": [
    "### Predicting on test data"
   ]
  },
  {
   "cell_type": "code",
   "execution_count": 33,
   "metadata": {},
   "outputs": [],
   "source": [
    "y_pred = etc.predict(scaled_test[features])\n",
    "prediction = pd.DataFrame({'predicted_loan_default':y_pred})"
   ]
  },
  {
   "cell_type": "code",
   "execution_count": 34,
   "metadata": {},
   "outputs": [
    {
     "data": {
      "text/html": [
       "<div>\n",
       "<style scoped>\n",
       "    .dataframe tbody tr th:only-of-type {\n",
       "        vertical-align: middle;\n",
       "    }\n",
       "\n",
       "    .dataframe tbody tr th {\n",
       "        vertical-align: top;\n",
       "    }\n",
       "\n",
       "    .dataframe thead th {\n",
       "        text-align: right;\n",
       "    }\n",
       "</style>\n",
       "<table border=\"1\" class=\"dataframe\">\n",
       "  <thead>\n",
       "    <tr style=\"text-align: right;\">\n",
       "      <th></th>\n",
       "      <th>UniqueID</th>\n",
       "      <th>predicted_loan_default</th>\n",
       "    </tr>\n",
       "  </thead>\n",
       "  <tbody>\n",
       "    <tr>\n",
       "      <th>0</th>\n",
       "      <td>655269</td>\n",
       "      <td>0</td>\n",
       "    </tr>\n",
       "    <tr>\n",
       "      <th>1</th>\n",
       "      <td>723482</td>\n",
       "      <td>0</td>\n",
       "    </tr>\n",
       "    <tr>\n",
       "      <th>2</th>\n",
       "      <td>758529</td>\n",
       "      <td>0</td>\n",
       "    </tr>\n",
       "    <tr>\n",
       "      <th>3</th>\n",
       "      <td>763449</td>\n",
       "      <td>0</td>\n",
       "    </tr>\n",
       "    <tr>\n",
       "      <th>4</th>\n",
       "      <td>708663</td>\n",
       "      <td>1</td>\n",
       "    </tr>\n",
       "  </tbody>\n",
       "</table>\n",
       "</div>"
      ],
      "text/plain": [
       "   UniqueID  predicted_loan_default\n",
       "0    655269                       0\n",
       "1    723482                       0\n",
       "2    758529                       0\n",
       "3    763449                       0\n",
       "4    708663                       1"
      ]
     },
     "execution_count": 34,
     "metadata": {},
     "output_type": "execute_result"
    }
   ],
   "source": [
    "prediction_df = pd.DataFrame(data = testing['UniqueID'], columns = ['UniqueID'])\n",
    "prediction_df['predicted_loan_default'] = prediction['predicted_loan_default']\n",
    "prediction_df.to_csv('test_prediction.csv', index = False)\n",
    "prediction_df.head()"
   ]
  }
 ],
 "metadata": {
  "kernelspec": {
   "display_name": "Python 3",
   "language": "python",
   "name": "python3"
  },
  "language_info": {
   "codemirror_mode": {
    "name": "ipython",
    "version": 3
   },
   "file_extension": ".py",
   "mimetype": "text/x-python",
   "name": "python",
   "nbconvert_exporter": "python",
   "pygments_lexer": "ipython3",
   "version": "3.7.7"
  }
 },
 "nbformat": 4,
 "nbformat_minor": 4
}
